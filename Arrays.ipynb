{
 "cells": [
  {
   "cell_type": "code",
   "execution_count": 3,
   "id": "75442381-6051-453f-b601-7eb7db50aca7",
   "metadata": {},
   "outputs": [
    {
     "name": "stdin",
     "output_type": "stream",
     "text": [
      " 10 20 30 40 50 60\n",
      " 30\n"
     ]
    },
    {
     "name": "stdout",
     "output_type": "stream",
     "text": [
      "2\n"
     ]
    }
   ],
   "source": [
    "##linear Search\n",
    "##space complexity:- O(1)\n",
    "## Time Complexity:- O(n)\n",
    "\n",
    "def linear_search(arr, x):\n",
    "    for i in range(len(arr)):\n",
    "        if arr[i] == x:\n",
    "            return i\n",
    "    return -1\n",
    "\n",
    "arr = list(map(int, input().split()))\n",
    "x = int(input())\n",
    "r = linear_search(arr, x)\n",
    "print(r)"
   ]
  },
  {
   "cell_type": "code",
   "execution_count": 4,
   "id": "790e54bf-667d-426d-929e-46c29a871bb0",
   "metadata": {},
   "outputs": [
    {
     "data": {
      "text/plain": [
       "[10, 20, 80, 30, 40, 50, 60]"
      ]
     },
     "execution_count": 4,
     "metadata": {},
     "output_type": "execute_result"
    }
   ],
   "source": [
    "## Insert an element at particular position.\n",
    "\n",
    "arr.insert(2, 80)\n",
    "arr"
   ]
  },
  {
   "cell_type": "code",
   "execution_count": 17,
   "id": "09dc4445-827d-47a5-85e7-f36532490da1",
   "metadata": {},
   "outputs": [
    {
     "data": {
      "text/plain": [
       "[10, 20, 30, 40, 50, 60]"
      ]
     },
     "execution_count": 17,
     "metadata": {},
     "output_type": "execute_result"
    }
   ],
   "source": [
    "## Remove an element from an array.\n",
    "\n",
    "arr.remove(80)\n",
    "arr"
   ]
  },
  {
   "cell_type": "code",
   "execution_count": 18,
   "id": "5f6ce50c-bb58-4cc3-a97d-d15ea8f6ad36",
   "metadata": {},
   "outputs": [
    {
     "data": {
      "text/plain": [
       "1"
      ]
     },
     "execution_count": 18,
     "metadata": {},
     "output_type": "execute_result"
    }
   ],
   "source": [
    "## To count the frequency of an element in the array.\n",
    "\n",
    "arr.count(10)"
   ]
  },
  {
   "cell_type": "code",
   "execution_count": 20,
   "id": "585fd49a-dc93-4431-8016-8e5c2a9c7935",
   "metadata": {},
   "outputs": [
    {
     "data": {
      "text/plain": [
       "40"
      ]
     },
     "execution_count": 20,
     "metadata": {},
     "output_type": "execute_result"
    }
   ],
   "source": [
    "## Remove an element using the index.\n",
    "\n",
    "arr.pop(3)"
   ]
  },
  {
   "cell_type": "code",
   "execution_count": 21,
   "id": "83e22084-3269-41ad-9bd4-c424616f6e38",
   "metadata": {},
   "outputs": [
    {
     "data": {
      "text/plain": [
       "[10, 20, 30, 50, 60]"
      ]
     },
     "execution_count": 21,
     "metadata": {},
     "output_type": "execute_result"
    }
   ],
   "source": [
    "## To sort an array using function.\n",
    "\n",
    "arr.sort()\n",
    "arr"
   ]
  },
  {
   "cell_type": "code",
   "execution_count": 5,
   "id": "8bbbf173-ed6a-4a12-8dc8-79538aa8d7ae",
   "metadata": {},
   "outputs": [
    {
     "data": {
      "text/plain": [
       "5"
      ]
     },
     "execution_count": 5,
     "metadata": {},
     "output_type": "execute_result"
    }
   ],
   "source": [
    "## To get the index of a particular element in the array.\n",
    "arr.index(50)"
   ]
  },
  {
   "cell_type": "code",
   "execution_count": 6,
   "id": "e3e663ed-60e9-477a-9150-11b000ba2a6f",
   "metadata": {},
   "outputs": [
    {
     "data": {
      "text/plain": [
       "[60, 50, 40, 30, 80, 20, 10]"
      ]
     },
     "execution_count": 6,
     "metadata": {},
     "output_type": "execute_result"
    }
   ],
   "source": [
    "## To reverse an array.\n",
    "\n",
    "arr.reverse()\n",
    "arr"
   ]
  },
  {
   "cell_type": "code",
   "execution_count": 3,
   "id": "d9ef65d5-6926-48f5-b8b8-5023e0349419",
   "metadata": {},
   "outputs": [
    {
     "name": "stdin",
     "output_type": "stream",
     "text": [
      " 12 15 16 18 20 15\n",
      " 16\n"
     ]
    },
    {
     "name": "stdout",
     "output_type": "stream",
     "text": [
      "2\n"
     ]
    }
   ],
   "source": [
    "## Binary Search\n",
    "\n",
    "def binary_search(arr,i,j,x):\n",
    "    while i<=j:\n",
    "        mid = i + (j-i)//2\n",
    "        if arr[mid] == x:\n",
    "            return mid\n",
    "        elif arr[mid] < x:\n",
    "            return binary_search(arr,mid+1,j,x)\n",
    "        else:\n",
    "            return binary_search(arr,i,mid-1,x)\n",
    "    return -1\n",
    "\n",
    "arr = list(map(int, input().split()))\n",
    "x = int(input())\n",
    "i = 0\n",
    "j = len(arr)-1\n",
    "res = binary_search(arr,i,j,x)\n",
    "print(res)\n",
    "        "
   ]
  },
  {
   "cell_type": "code",
   "execution_count": 4,
   "id": "497228fd-e6c0-4023-b56b-2783d4f65571",
   "metadata": {},
   "outputs": [
    {
     "name": "stdin",
     "output_type": "stream",
     "text": [
      " 12 15 16 18 20 15\n",
      " 18\n"
     ]
    },
    {
     "name": "stdout",
     "output_type": "stream",
     "text": [
      "3\n"
     ]
    }
   ],
   "source": [
    "## Binary Search another method by just updating i and j\n",
    "\n",
    "def binary_search(arr,i,j,x):\n",
    "    while i<=j:\n",
    "        mid = i + (j-i)//2\n",
    "        if arr[mid] == x:\n",
    "            return mid\n",
    "        elif arr[mid] < x:\n",
    "            i = mid+1\n",
    "        else:\n",
    "            j = mid-1\n",
    "    return -1\n",
    "\n",
    "arr = list(map(int, input().split()))\n",
    "x = int(input())\n",
    "i = 0\n",
    "j = len(arr)-1\n",
    "res = binary_search(arr,i,j,x)\n",
    "print(res)\n",
    "        "
   ]
  },
  {
   "cell_type": "code",
   "execution_count": 8,
   "id": "25e20b0b-cd91-4752-b65d-0cb5618488e7",
   "metadata": {},
   "outputs": [
    {
     "name": "stdin",
     "output_type": "stream",
     "text": [
      " 20 -30 10 5 7 0 29 inf inf inf inf\n"
     ]
    },
    {
     "name": "stdout",
     "output_type": "stream",
     "text": [
      "7\n"
     ]
    }
   ],
   "source": [
    "## Having an array and we have alist of numbers which are given from user for example\n",
    "## arr = [20,-30,10,5,7,0,29,infinite,infinite,infinite,...............] we have infinite values.now return the postion of first infinte element.\n",
    "## Interview question\n",
    "\n",
    "def first_infinite(arr):\n",
    "    i, j = 0, 1\n",
    "    while j < len(arr) and arr[j] != float('inf'):\n",
    "        i = j\n",
    "        j *= 2\n",
    "    while i<=j:\n",
    "        mid = i + (j-i)//2\n",
    "        if arr[mid] == float('inf'):\n",
    "            if mid == 0 or arr[mid-1] != float('inf'):\n",
    "                return mid\n",
    "            else:\n",
    "                j = mid-1\n",
    "        else:\n",
    "            i = mid+1\n",
    "    return -1\n",
    "\n",
    "arr = list(map(str, input().split()))\n",
    "arr = [float('inf') if x == 'inf' else int(x) for x in arr]\n",
    "resu = first_infinite(arr)\n",
    "print(resu)\n",
    "\n"
   ]
  },
  {
   "cell_type": "code",
   "execution_count": 3,
   "id": "2b6218e3-5e51-4856-9886-9c9bab70f5d7",
   "metadata": {},
   "outputs": [
    {
     "name": "stdout",
     "output_type": "stream",
     "text": [
      "True\n"
     ]
    }
   ],
   "source": [
    "## Search in 2D array\n",
    "##Brute force approach - O(m*n)\n",
    "## Row-Wise sorted from left to right\n",
    "## First integer of each row > last integer of the previous row.\n",
    "def search_sortedmatrix(matrix, target):\n",
    "    m = len(matrix)\n",
    "    if m == 0:\n",
    "        return False\n",
    "    n = len(matrix[0])\n",
    "    l, r = 0, m*n-1\n",
    "    while l<=r:\n",
    "        mid = l+(r-l)//2\n",
    "        mid_ele = matrix[mid//n][mid%n]##to find the mid row and mid column\n",
    "        if target == mid_ele:\n",
    "            return True\n",
    "        elif target < mid_ele:\n",
    "            r = mid-1\n",
    "        else:\n",
    "            l = mid+1\n",
    "    return False\n",
    "            \n",
    "\n",
    "matrix = [[1,3,5,7], [10,11,16,20], [23,30,34,60]]\n",
    "target = 3\n",
    "##fuction calling\n",
    "result = search_sortedmatrix(matrix, target)\n",
    "print(result)\n"
   ]
  },
  {
   "cell_type": "code",
   "execution_count": 6,
   "id": "8347c553-a762-4938-acd8-80eadda2b4eb",
   "metadata": {},
   "outputs": [
    {
     "name": "stdout",
     "output_type": "stream",
     "text": [
      "[5, 15, 20, 30, 50, 70, 90]\n"
     ]
    }
   ],
   "source": [
    "##Bubble sort\n",
    "##time complexity is o(n^2)\n",
    "def bubble_sort(arr):\n",
    "    n = len(arr)\n",
    "    for i in range(n):\n",
    "        for j in range(n-i-1):\n",
    "            if arr[j] > arr[j+1]:\n",
    "                arr[j], arr[j+1] = arr[j+1], arr[j]\n",
    "    return arr\n",
    "arr = [70, 20, 50, 30, 90, 5, 15]\n",
    "res = bubble_sort(arr)\n",
    "print(arr)"
   ]
  },
  {
   "cell_type": "code",
   "execution_count": 9,
   "id": "f0f09fc3-c54a-440d-aa22-53b8bd537167",
   "metadata": {},
   "outputs": [
    {
     "name": "stdout",
     "output_type": "stream",
     "text": [
      "[5, 15, 20, 30, 50, 70, 90]\n"
     ]
    }
   ],
   "source": [
    "##Selection sort\n",
    "##Time Complexity :O(n^2)\n",
    "def selection_sort(arr):\n",
    "    n = len(arr)\n",
    "    for i in range(n):\n",
    "        min_i = i\n",
    "        for j in range(i+1,n):\n",
    "            if arr[j] < arr[min_i]:\n",
    "                min_i = j\n",
    "        ##swap of the elememt at i and min_i\n",
    "        arr[i], arr[min_i] = arr[min_i], arr[i]\n",
    "    return arr\n",
    "        \n",
    "    \n",
    "\n",
    "\n",
    "arr = [70, 20, 50, 30, 90, 5, 15]\n",
    "res = selection_sort(arr)\n",
    "print(arr)"
   ]
  },
  {
   "cell_type": "code",
   "execution_count": 11,
   "id": "ccb1c9df-0819-4433-8f5a-bdcae9171482",
   "metadata": {},
   "outputs": [
    {
     "name": "stdout",
     "output_type": "stream",
     "text": [
      "[5, 15, 20, 30, 50, 70, 90]\n"
     ]
    }
   ],
   "source": [
    "##Insertion sort\n",
    "##Time Complexity :O(n^2)\n",
    "def insertion_sort(arr):\n",
    "    n = len(arr)\n",
    "    for i in range(1,n):\n",
    "        key = arr[i]\n",
    "        j = i - 1\n",
    "        while j >= 0 and key < arr[j]:\n",
    "            arr[j+1] = arr[j]\n",
    "            j = j-1\n",
    "        arr[j+1] = key\n",
    "    return arr\n",
    "            \n",
    "arr = [70, 20, 50, 30, 90, 5, 15]\n",
    "res = insertion_sort(arr)\n",
    "print(res)"
   ]
  },
  {
   "cell_type": "code",
   "execution_count": 15,
   "id": "58e6c403-d7ac-4af0-b885-9121f99501d5",
   "metadata": {},
   "outputs": [
    {
     "name": "stdout",
     "output_type": "stream",
     "text": [
      "85\n"
     ]
    }
   ],
   "source": [
    "##Interview Question on Arrays Best Time to Buy and Sell Stock(Microsoft and google)\n",
    "def Best_Time_to_Buy_and_Sell_Stock(Prices):\n",
    "    min_Price = float('inf')\n",
    "    max_profit = 0\n",
    "    n = len(Prices)\n",
    "    for i in range(n):\n",
    "        if Prices[i] < min_Price:\n",
    "            min_Price = Prices[i]\n",
    "        elif Prices[i] - min_Price > max_profit:\n",
    "            max_profit = Prices[i] - min_Price\n",
    "    return max_profit\n",
    "\n",
    "Prices = [70, 5, 20, 50, 30, 90, 15]\n",
    "res = Best_Time_to_Buy_and_Sell_Stock(Prices)\n",
    "print(res)"
   ]
  },
  {
   "cell_type": "code",
   "execution_count": 17,
   "id": "09c02166-0351-4a57-ab19-cb134a82f0a0",
   "metadata": {},
   "outputs": [
    {
     "name": "stdout",
     "output_type": "stream",
     "text": [
      "collinear points\n"
     ]
    }
   ],
   "source": [
    "##Interview Question on Arrays Collinear Points(google)\n",
    "##approach:-1 m1 == m2\n",
    "def is_Collinear_Points(x1, x2, x3, y1, y2, y3):\n",
    "    if((y2 - y1)*(x3 - x2) == (y3 - y2)*(x2 - x1)):\n",
    "        print(\"collinear points\")\n",
    "    else:\n",
    "        print(\"Not a collinear points\")\n",
    "\n",
    "x1, x2, x3, y1, y2, y3 = 1, 1, 1, 6, 0, 9\n",
    "is_Collinear_Points(x1, x2, x3, y1, y2, y3)\n"
   ]
  },
  {
   "cell_type": "code",
   "execution_count": 24,
   "id": "6d3bddef-ac0c-41cf-aac3-0e173a02ee26",
   "metadata": {},
   "outputs": [
    {
     "name": "stdout",
     "output_type": "stream",
     "text": [
      "collinear points\n"
     ]
    }
   ],
   "source": [
    "##Interview Question on Arrays Collinear Points(google)\n",
    "##approach:-2\n",
    "def is_Collinear_Points(x1, x2, x3, y1, y2, y3):\n",
    "    area = 0.5 * (x1*(y2-y3) + x2*(y3-y1) + x3*(y1-y2))##area of triangel is zero = collinear\n",
    "    if area == 0:\n",
    "        print(\"collinear points\")\n",
    "    else:\n",
    "        print(\"Not a collinear points\")\n",
    "\n",
    "x1, x2, x3, y1, y2, y3 = 1, 1, 1, 6, 0, 9\n",
    "is_Collinear_Points(x1, x2, x3, y1, y2, y3)"
   ]
  },
  {
   "cell_type": "code",
   "execution_count": null,
   "id": "137a086b-60ab-4264-a306-da7cea6bf091",
   "metadata": {},
   "outputs": [],
   "source": [
    "##Interview Question on Arrays Majority Element(Amazon)\n",
    "##approach-1(sort the array)\n",
    "##Time complexity :- nlogn\n",
    "def majority_element(arr):\n",
    "    n = len(arr)\n",
    "    \n",
    "\n",
    "arr = [2, 2, 1, 1, 1, 2, 2]\n",
    "res = majority_element(arr)\n",
    "print(res)"
   ]
  },
  {
   "cell_type": "code",
   "execution_count": 27,
   "id": "37cc9478-c2ba-4ded-9890-5a762565e1cd",
   "metadata": {},
   "outputs": [
    {
     "name": "stdout",
     "output_type": "stream",
     "text": [
      "Counter({2: 4, 1: 3})\n",
      "2\n"
     ]
    }
   ],
   "source": [
    "##Interview Question on Arrays Majority Element(Amazon)\n",
    "##approach-2(dictionary(hash data structure)(optimized approach)\n",
    "##Time complexity :- O(n)\n",
    "from collections import Counter\n",
    "\n",
    "def majority_element(arr):\n",
    "    count = Counter(arr)\n",
    "    n = len(arr)\n",
    "    print(count)\n",
    "    return max(count.keys(), key = count.get)\n",
    "\n",
    "arr = [2, 2, 1, 1, 1, 2, 2]\n",
    "res = majority_element(arr)\n",
    "print(res)"
   ]
  },
  {
   "cell_type": "code",
   "execution_count": null,
   "id": "8bb81e32-47e9-4d8d-b956-10fcacf2f333",
   "metadata": {},
   "outputs": [],
   "source": [
    "##Interview Question on Arrays Majority Element(Amazon)\n",
    "##approach-2(Boyer-Moore voting algorithm)(optimized approach)\n",
    "##Time complexity :- O(n)\n",
    "def majority_element(arr):\n",
    "    cand = None\n",
    "    count = 0\n",
    "    for i in range(len(arr)):\n",
    "arr = [2, 2, 1, 1, 1, 2, 2]\n",
    "res = majority_element(arr)\n",
    "print(res)"
   ]
  },
  {
   "cell_type": "code",
   "execution_count": 1,
   "id": "0255fb68-059c-4f99-86c4-488e65ffc157",
   "metadata": {},
   "outputs": [
    {
     "name": "stdout",
     "output_type": "stream",
     "text": [
      "[0, 0, 1, 1, 2, 2]\n"
     ]
    }
   ],
   "source": [
    "##Interview Question on Arrays Sort Colors\n",
    "def sort_colors(arr):\n",
    "    n = len(arr)\n",
    "    p0 = curr = 0\n",
    "    p2 = n - 1\n",
    "\n",
    "    while curr <= p2:\n",
    "        if arr[curr] == 0:\n",
    "            ##swap nums[curr] and nums[p0]\n",
    "            p0 += 1\n",
    "            curr += 1\n",
    "        elif arr[curr] == 2:\n",
    "            arr[p2], arr[curr] = arr[curr], arr[p2]\n",
    "            p2 -= 1\n",
    "        else:\n",
    "            curr += 1\n",
    "    return arr    \n",
    "\n",
    "arr = [2,0,2,1,1,0]\n",
    "res = sort_colors(arr)\n",
    "print(res)\n"
   ]
  },
  {
   "cell_type": "code",
   "execution_count": null,
   "id": "629b8d9e-e466-4b24-9d1f-cde66883a3b2",
   "metadata": {},
   "outputs": [],
   "source": []
  }
 ],
 "metadata": {
  "kernelspec": {
   "display_name": "Python 3 (ipykernel)",
   "language": "python",
   "name": "python3"
  },
  "language_info": {
   "codemirror_mode": {
    "name": "ipython",
    "version": 3
   },
   "file_extension": ".py",
   "mimetype": "text/x-python",
   "name": "python",
   "nbconvert_exporter": "python",
   "pygments_lexer": "ipython3",
   "version": "3.11.7"
  }
 },
 "nbformat": 4,
 "nbformat_minor": 5
}
